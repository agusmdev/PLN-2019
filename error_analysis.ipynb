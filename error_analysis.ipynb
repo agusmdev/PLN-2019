{
 "cells": [
  {
   "cell_type": "code",
   "execution_count": 323,
   "metadata": {},
   "outputs": [
    {
     "name": "stdout",
     "output_type": "stream",
     "text": [
      "The autoreload extension is already loaded. To reload it, use:\n",
      "  %reload_ext autoreload\n"
     ]
    }
   ],
   "source": [
    "import re\n",
    "from notebooks.sentiment.util import build_pipeline, print_eval, preprocess_tweets\n",
    "from sentiment.new_data import InterTASSAugmented\n",
    "from sentiment.tass import InterTASSReader\n",
    "from tqdm import tqdm\n",
    "import autoreload\n",
    "%load_ext autoreload\n",
    "%autoreload 2"
   ]
  },
  {
   "cell_type": "code",
   "execution_count": 345,
   "metadata": {},
   "outputs": [
    {
     "name": "stderr",
     "output_type": "stream",
     "text": [
      "/home/gosen/.local/share/virtualenvs/PLN-2019-N1iczKTA/lib/python3.6/site-packages/sklearn/linear_model/logistic.py:433: FutureWarning: Default solver will be changed to 'lbfgs' in 0.22. Specify a solver to silence this warning.\n",
      "  FutureWarning)\n",
      "/home/gosen/.local/share/virtualenvs/PLN-2019-N1iczKTA/lib/python3.6/site-packages/sklearn/linear_model/logistic.py:460: FutureWarning: Default multi_class will be changed to 'auto' in 0.22. Specify the multi_class option to silence this warning.\n",
      "  \"this warning.\", FutureWarning)\n"
     ]
    },
    {
     "data": {
      "text/plain": [
       "Pipeline(memory=None,\n",
       "     steps=[('feats', FeatureUnion(n_jobs=None,\n",
       "       transformer_list=[('vect', TfidfVectorizer(analyzer='char_wb', binary=True, decode_error='strict',\n",
       "        dtype=<class 'numpy.float64'>, encoding='utf-8', input='content',\n",
       "        lowercase=True, max_df=0.95, max_features=None, min_df=5,\n",
       "        ngr...penalty='l2', random_state=None,\n",
       "          solver='warn', tol=0.0001, verbose=0, warm_start=False))])"
      ]
     },
     "execution_count": 345,
     "metadata": {},
     "output_type": "execute_result"
    }
   ],
   "source": [
    "# reader = InterTASSAugmented(ratio=0.9)  # Class to use augmented data\n",
    "# X_train, y_train = reader.Xy()\n",
    "train = \"intertass-ES-train-tagged.xml\"\n",
    "train = InterTASSReader(train)\n",
    "X_train, y_train = list(train.X()), list(train.y())\n",
    "\n",
    "\n",
    "corpus = \"intertass-ES-development-tagged.xml\"\n",
    "dev = InterTASSReader(corpus)\n",
    "X_dev, y_dev = list(dev.X()), list(dev.y())\n",
    "\n",
    "pipeline = build_pipeline()\n",
    "pipeline.fit(X_train, y_train)"
   ]
  },
  {
   "cell_type": "code",
   "execution_count": 325,
   "metadata": {},
   "outputs": [
    {
     "name": "stdout",
     "output_type": "stream",
     "text": [
      "accuracy\t0.56\n",
      "\n",
      "              precision    recall  f1-score   support\n",
      "\n",
      "           n       0.58      0.77      0.66       219\n",
      "           p       0.20      0.07      0.11        69\n",
      "        none       0.24      0.10      0.14        62\n",
      "         neu       0.61      0.65      0.63       156\n",
      "\n",
      "   micro avg       0.56      0.56      0.56       506\n",
      "   macro avg       0.41      0.40      0.38       506\n",
      "weighted avg       0.50      0.56      0.51       506\n",
      "\n",
      "[[168  11   9  31]\n",
      " [ 40   5   4  20]\n",
      " [ 37   5   6  14]\n",
      " [ 44   4   6 102]]\n"
     ]
    }
   ],
   "source": [
    "print_eval(pipeline, X_dev, y_dev)"
   ]
  },
  {
   "cell_type": "code",
   "execution_count": 326,
   "metadata": {},
   "outputs": [],
   "source": [
    "y_pred = pipeline.predict(X_dev)"
   ]
  },
  {
   "cell_type": "code",
   "execution_count": 327,
   "metadata": {},
   "outputs": [],
   "source": [
    "\n",
    "import pandas as pd\n",
    "# pd.options.display.max_colwidth = 0\n",
    "\n",
    "errors = []\n",
    "for x, y1, y2 in zip(X_dev, y_dev, y_pred):\n",
    "    if y1 != y2:\n",
    "        errors.append({\n",
    "            'item': x,\n",
    "            'true': y1,\n",
    "            'pred': y2})\n",
    "\n",
    "errdf = pd.DataFrame(errors)\n",
    "errdf['len'] = errdf['item'].apply(lambda x: len(x))"
   ]
  },
  {
   "cell_type": "code",
   "execution_count": 328,
   "metadata": {},
   "outputs": [],
   "source": [
    "labels = {\"NONE\": 2, \"N\":0, \"P\": 3, \"NEU\": 1}"
   ]
  },
  {
   "cell_type": "code",
   "execution_count": 329,
   "metadata": {},
   "outputs": [],
   "source": [
    "y_prob = pipeline.predict_proba(X_dev)"
   ]
  },
  {
   "cell_type": "code",
   "execution_count": 330,
   "metadata": {},
   "outputs": [],
   "source": [
    "import pandas as pd\n",
    "import numpy as np\n",
    "# pd.options.display.max_colwidth = 0\n",
    "\n",
    "errors = []\n",
    "for i, (x, y1, y2, y2p) in enumerate(zip(X_dev, y_dev, y_pred, y_prob)):\n",
    "    if y1 != y2:\n",
    "        assert np.argmax(y2p) == labels[y2]\n",
    "        label_pred, label_y = labels[y2], labels[y1]\n",
    "        diff = y2p[label_pred] - y2p[label_y]\n",
    "        errors.append({\n",
    "            'index': i,\n",
    "            'item': x,\n",
    "            'true': y1,\n",
    "            'pred': y2,\n",
    "            'diff': diff})\n",
    "\n",
    "errdf = pd.DataFrame(errors)\n",
    "errdf.sort_values('diff', inplace=True, ascending=False)"
   ]
  },
  {
   "cell_type": "code",
   "execution_count": 331,
   "metadata": {},
   "outputs": [
    {
     "data": {
      "text/html": [
       "<div>\n",
       "<style scoped>\n",
       "    .dataframe tbody tr th:only-of-type {\n",
       "        vertical-align: middle;\n",
       "    }\n",
       "\n",
       "    .dataframe tbody tr th {\n",
       "        vertical-align: top;\n",
       "    }\n",
       "\n",
       "    .dataframe thead th {\n",
       "        text-align: right;\n",
       "    }\n",
       "</style>\n",
       "<table border=\"1\" class=\"dataframe\">\n",
       "  <thead>\n",
       "    <tr style=\"text-align: right;\">\n",
       "      <th></th>\n",
       "      <th>diff</th>\n",
       "      <th>index</th>\n",
       "      <th>item</th>\n",
       "      <th>pred</th>\n",
       "      <th>true</th>\n",
       "    </tr>\n",
       "  </thead>\n",
       "  <tbody>\n",
       "    <tr>\n",
       "      <th>134</th>\n",
       "      <td>0.443618</td>\n",
       "      <td>277</td>\n",
       "      <td>Mi madre me deja ponerme rubia pero no el pelo morado</td>\n",
       "      <td>N</td>\n",
       "      <td>NEU</td>\n",
       "    </tr>\n",
       "    <tr>\n",
       "      <th>207</th>\n",
       "      <td>0.441336</td>\n",
       "      <td>454</td>\n",
       "      <td>@Pattvh_ no porque no los tienes activados a todos</td>\n",
       "      <td>N</td>\n",
       "      <td>NONE</td>\n",
       "    </tr>\n",
       "    <tr>\n",
       "      <th>14</th>\n",
       "      <td>0.429036</td>\n",
       "      <td>28</td>\n",
       "      <td>y lo peor de todo es que funcionaba maldita Jaco como te quiero</td>\n",
       "      <td>N</td>\n",
       "      <td>NEU</td>\n",
       "    </tr>\n",
       "    <tr>\n",
       "      <th>177</th>\n",
       "      <td>0.418879</td>\n",
       "      <td>374</td>\n",
       "      <td>@Idolsftdjom @_jesus_OM @DanieloviedoM obviamente tia JAJAJAJAJA q soy la mayor  osqqqqq pero venir ya ofu</td>\n",
       "      <td>N</td>\n",
       "      <td>NONE</td>\n",
       "    </tr>\n",
       "    <tr>\n",
       "      <th>40</th>\n",
       "      <td>0.411710</td>\n",
       "      <td>100</td>\n",
       "      <td>@gilthoniel_1987 Si estoy trabajando 😭, con vistas eso sí. Buenos días!!</td>\n",
       "      <td>P</td>\n",
       "      <td>NEU</td>\n",
       "    </tr>\n",
       "    <tr>\n",
       "      <th>141</th>\n",
       "      <td>0.403224</td>\n",
       "      <td>291</td>\n",
       "      <td>@AnaSJuarez @OfficialMauiJim ¡Hola Ana! Te hemos contestado por mensaje privado, donde no hay limitación de caracteres  ¡Gracias!</td>\n",
       "      <td>P</td>\n",
       "      <td>NONE</td>\n",
       "    </tr>\n",
       "    <tr>\n",
       "      <th>100</th>\n",
       "      <td>0.393545</td>\n",
       "      <td>209</td>\n",
       "      <td>@ArthasSama @Holic_meri es por no destrozar tus posibilidades con la gente guapa</td>\n",
       "      <td>P</td>\n",
       "      <td>NEU</td>\n",
       "    </tr>\n",
       "    <tr>\n",
       "      <th>107</th>\n",
       "      <td>0.384047</td>\n",
       "      <td>223</td>\n",
       "      <td>Cuando no puedo dormir, escribo todo lo que preocupa en una libreta que alguien me regaló y es como un somnífero instantáneo</td>\n",
       "      <td>N</td>\n",
       "      <td>P</td>\n",
       "    </tr>\n",
       "    <tr>\n",
       "      <th>153</th>\n",
       "      <td>0.378016</td>\n",
       "      <td>320</td>\n",
       "      <td>A mí nunca me podrán hacer una broma porque no cojo llamadas y menos cuando son ocultas</td>\n",
       "      <td>N</td>\n",
       "      <td>NONE</td>\n",
       "    </tr>\n",
       "    <tr>\n",
       "      <th>32</th>\n",
       "      <td>0.359245</td>\n",
       "      <td>74</td>\n",
       "      <td>@TheFuzzCanyon gracias por etiquetarme, pero no suelo hacer estas cosas</td>\n",
       "      <td>P</td>\n",
       "      <td>NEU</td>\n",
       "    </tr>\n",
       "  </tbody>\n",
       "</table>\n",
       "</div>"
      ],
      "text/plain": [
       "         diff  index  \\\n",
       "134  0.443618  277     \n",
       "207  0.441336  454     \n",
       "14   0.429036  28      \n",
       "177  0.418879  374     \n",
       "40   0.411710  100     \n",
       "141  0.403224  291     \n",
       "100  0.393545  209     \n",
       "107  0.384047  223     \n",
       "153  0.378016  320     \n",
       "32   0.359245  74      \n",
       "\n",
       "                                                                                                                                  item  \\\n",
       "134  Mi madre me deja ponerme rubia pero no el pelo morado                                                                               \n",
       "207  @Pattvh_ no porque no los tienes activados a todos                                                                                  \n",
       "14   y lo peor de todo es que funcionaba maldita Jaco como te quiero                                                                     \n",
       "177  @Idolsftdjom @_jesus_OM @DanieloviedoM obviamente tia JAJAJAJAJA q soy la mayor  osqqqqq pero venir ya ofu                          \n",
       "40   @gilthoniel_1987 Si estoy trabajando 😭, con vistas eso sí. Buenos días!!                                                            \n",
       "141  @AnaSJuarez @OfficialMauiJim ¡Hola Ana! Te hemos contestado por mensaje privado, donde no hay limitación de caracteres  ¡Gracias!   \n",
       "100  @ArthasSama @Holic_meri es por no destrozar tus posibilidades con la gente guapa                                                    \n",
       "107  Cuando no puedo dormir, escribo todo lo que preocupa en una libreta que alguien me regaló y es como un somnífero instantáneo        \n",
       "153  A mí nunca me podrán hacer una broma porque no cojo llamadas y menos cuando son ocultas                                             \n",
       "32   @TheFuzzCanyon gracias por etiquetarme, pero no suelo hacer estas cosas                                                             \n",
       "\n",
       "    pred  true  \n",
       "134  N    NEU   \n",
       "207  N    NONE  \n",
       "14   N    NEU   \n",
       "177  N    NONE  \n",
       "40   P    NEU   \n",
       "141  P    NONE  \n",
       "100  P    NEU   \n",
       "107  N    P     \n",
       "153  N    NONE  \n",
       "32   P    NEU   "
      ]
     },
     "execution_count": 331,
     "metadata": {},
     "output_type": "execute_result"
    }
   ],
   "source": [
    "errdf[:10] # 10 tweets peor clasificados"
   ]
  },
  {
   "cell_type": "code",
   "execution_count": 332,
   "metadata": {},
   "outputs": [
    {
     "data": {
      "text/plain": [
       "(array([0.17939236, 0.09067096, 0.16335655, 0.56658013]), 'P', 'NONE')"
      ]
     },
     "execution_count": 332,
     "metadata": {},
     "output_type": "execute_result"
    }
   ],
   "source": [
    "y_prob[291], y_pred[291], y_dev[291]"
   ]
  },
  {
   "cell_type": "code",
   "execution_count": 333,
   "metadata": {},
   "outputs": [
    {
     "data": {
      "text/plain": [
       "'@AnaSJuarez @OfficialMauiJim ¡Hola Ana! Te hemos contestado por mensaje privado, donde no hay limitación de caracteres  ¡Gracias!'"
      ]
     },
     "execution_count": 333,
     "metadata": {},
     "output_type": "execute_result"
    }
   ],
   "source": [
    "tweet = errdf.loc[141][\"item\"]\n",
    "tweet"
   ]
  },
  {
   "cell_type": "markdown",
   "metadata": {},
   "source": [
    "### Sabemos por el ejercicio anterior lo siguiente:\n",
    "    - El peso positivo de los signos de exclamación es alto "
   ]
  },
  {
   "cell_type": "code",
   "execution_count": 334,
   "metadata": {},
   "outputs": [],
   "source": [
    "vect = pipeline.named_steps['feats']\n",
    "clf = pipeline.named_steps['clf']\n",
    "coef = clf.coef_\n",
    "\n",
    "pos_coef = coef[labels[\"P\"]]\n",
    "none_coef = coef[labels[\"NONE\"]]"
   ]
  },
  {
   "cell_type": "code",
   "execution_count": 335,
   "metadata": {},
   "outputs": [],
   "source": [
    "import import_ipynb\n",
    "import tabulate\n",
    "from sentiment.analysis import prettify_names, print_feature_weights_for_item\n",
    "\n",
    "features = vect.get_feature_names()\n",
    "features = list(map(prettify_names, features))\n",
    "\n",
    "features_df = pd.DataFrame({'name': features, 'pos_coefs': pos_coef.ravel(),\n",
    "                            'none_coefs': none_coef.ravel()})\n",
    "features_df.sort_values('pos_coefs', inplace=True, ascending=False)\n",
    "\n",
    "def search_features(names, features_df):\n",
    "    res = []\n",
    "    for name in names:\n",
    "        res.append(features_df[features_df[\"name\"] == name])\n",
    "    data = pd.DataFrame(pd.concat(res))\n",
    "    return data"
   ]
  },
  {
   "cell_type": "code",
   "execution_count": 336,
   "metadata": {},
   "outputs": [
    {
     "data": {
      "text/html": [
       "<div>\n",
       "<style scoped>\n",
       "    .dataframe tbody tr th:only-of-type {\n",
       "        vertical-align: middle;\n",
       "    }\n",
       "\n",
       "    .dataframe tbody tr th {\n",
       "        vertical-align: top;\n",
       "    }\n",
       "\n",
       "    .dataframe thead th {\n",
       "        text-align: right;\n",
       "    }\n",
       "</style>\n",
       "<table border=\"1\" class=\"dataframe\">\n",
       "  <thead>\n",
       "    <tr style=\"text-align: right;\">\n",
       "      <th></th>\n",
       "      <th>name</th>\n",
       "      <th>pos_coefs</th>\n",
       "      <th>none_coefs</th>\n",
       "    </tr>\n",
       "  </thead>\n",
       "  <tbody>\n",
       "    <tr>\n",
       "      <th>6681</th>\n",
       "      <td>!</td>\n",
       "      <td>1.115518</td>\n",
       "      <td>-0.172544</td>\n",
       "    </tr>\n",
       "    <tr>\n",
       "      <th>1482</th>\n",
       "      <td>!</td>\n",
       "      <td>0.947761</td>\n",
       "      <td>-0.119474</td>\n",
       "    </tr>\n",
       "    <tr>\n",
       "      <th>1483</th>\n",
       "      <td>!</td>\n",
       "      <td>0.917786</td>\n",
       "      <td>-0.109306</td>\n",
       "    </tr>\n",
       "    <tr>\n",
       "      <th>6228</th>\n",
       "      <td>uen</td>\n",
       "      <td>0.687026</td>\n",
       "      <td>-0.295466</td>\n",
       "    </tr>\n",
       "    <tr>\n",
       "      <th>24866</th>\n",
       "      <td>guapa</td>\n",
       "      <td>0.668180</td>\n",
       "      <td>-0.150822</td>\n",
       "    </tr>\n",
       "    <tr>\n",
       "      <th>3497</th>\n",
       "      <td>gra</td>\n",
       "      <td>0.592746</td>\n",
       "      <td>-0.433979</td>\n",
       "    </tr>\n",
       "    <tr>\n",
       "      <th>7077</th>\n",
       "      <td>#</td>\n",
       "      <td>0.591116</td>\n",
       "      <td>-0.124995</td>\n",
       "    </tr>\n",
       "    <tr>\n",
       "      <th>692</th>\n",
       "      <td>g</td>\n",
       "      <td>0.588155</td>\n",
       "      <td>-0.344366</td>\n",
       "    </tr>\n",
       "    <tr>\n",
       "      <th>5323</th>\n",
       "      <td>rac</td>\n",
       "      <td>0.546915</td>\n",
       "      <td>-0.018532</td>\n",
       "    </tr>\n",
       "    <tr>\n",
       "      <th>5324</th>\n",
       "      <td>raci</td>\n",
       "      <td>0.544964</td>\n",
       "      <td>-0.197824</td>\n",
       "    </tr>\n",
       "  </tbody>\n",
       "</table>\n",
       "</div>"
      ],
      "text/plain": [
       "        name  pos_coefs  none_coefs\n",
       "6681   !      1.115518  -0.172544  \n",
       "1482   !      0.947761  -0.119474  \n",
       "1483   !      0.917786  -0.109306  \n",
       "6228   uen    0.687026  -0.295466  \n",
       "24866  guapa  0.668180  -0.150822  \n",
       "3497   gra    0.592746  -0.433979  \n",
       "7077   #      0.591116  -0.124995  \n",
       "692     g     0.588155  -0.344366  \n",
       "5323   rac    0.546915  -0.018532  \n",
       "5324   raci   0.544964  -0.197824  "
      ]
     },
     "execution_count": 336,
     "metadata": {},
     "output_type": "execute_result"
    }
   ],
   "source": [
    "features_df[:10]"
   ]
  },
  {
   "cell_type": "code",
   "execution_count": 337,
   "metadata": {},
   "outputs": [
    {
     "data": {
      "text/plain": [
       "'@AnaSJuarez @OfficialMauiJim ¡Hola Ana! Te hemos contestado por mensaje privado, donde no hay limitación de caracteres  ¡Gracias!'"
      ]
     },
     "execution_count": 337,
     "metadata": {},
     "output_type": "execute_result"
    }
   ],
   "source": [
    "tweet"
   ]
  },
  {
   "cell_type": "code",
   "execution_count": 338,
   "metadata": {},
   "outputs": [
    {
     "data": {
      "text/html": [
       "<div>\n",
       "<style scoped>\n",
       "    .dataframe tbody tr th:only-of-type {\n",
       "        vertical-align: middle;\n",
       "    }\n",
       "\n",
       "    .dataframe tbody tr th {\n",
       "        vertical-align: top;\n",
       "    }\n",
       "\n",
       "    .dataframe thead th {\n",
       "        text-align: right;\n",
       "    }\n",
       "</style>\n",
       "<table border=\"1\" class=\"dataframe\">\n",
       "  <thead>\n",
       "    <tr style=\"text-align: right;\">\n",
       "      <th></th>\n",
       "      <th>name</th>\n",
       "      <th>pos_coefs</th>\n",
       "      <th>none_coefs</th>\n",
       "    </tr>\n",
       "  </thead>\n",
       "  <tbody>\n",
       "    <tr>\n",
       "      <th>37903</th>\n",
       "      <td>¡Hola</td>\n",
       "      <td>0.011822</td>\n",
       "      <td>0.090339</td>\n",
       "    </tr>\n",
       "    <tr>\n",
       "      <th>15676</th>\n",
       "      <td>Te</td>\n",
       "      <td>0.033012</td>\n",
       "      <td>-0.054424</td>\n",
       "    </tr>\n",
       "    <tr>\n",
       "      <th>1800</th>\n",
       "      <td>Te</td>\n",
       "      <td>-0.109241</td>\n",
       "      <td>0.104625</td>\n",
       "    </tr>\n",
       "    <tr>\n",
       "      <th>5184</th>\n",
       "      <td>por</td>\n",
       "      <td>-0.000409</td>\n",
       "      <td>-0.274191</td>\n",
       "    </tr>\n",
       "    <tr>\n",
       "      <th>28268</th>\n",
       "      <td>mensaje</td>\n",
       "      <td>0.133110</td>\n",
       "      <td>-0.051975</td>\n",
       "    </tr>\n",
       "    <tr>\n",
       "      <th>4612</th>\n",
       "      <td>no</td>\n",
       "      <td>-0.175268</td>\n",
       "      <td>-0.477257</td>\n",
       "    </tr>\n",
       "    <tr>\n",
       "      <th>3589</th>\n",
       "      <td>hay</td>\n",
       "      <td>0.128032</td>\n",
       "      <td>-0.233209</td>\n",
       "    </tr>\n",
       "    <tr>\n",
       "      <th>2714</th>\n",
       "      <td>de</td>\n",
       "      <td>-0.035710</td>\n",
       "      <td>0.006082</td>\n",
       "    </tr>\n",
       "    <tr>\n",
       "      <th>19255</th>\n",
       "      <td>caracteres</td>\n",
       "      <td>-0.035744</td>\n",
       "      <td>-0.014420</td>\n",
       "    </tr>\n",
       "  </tbody>\n",
       "</table>\n",
       "</div>"
      ],
      "text/plain": [
       "             name  pos_coefs  none_coefs\n",
       "37903  ¡Hola       0.011822   0.090339  \n",
       "15676  Te          0.033012  -0.054424  \n",
       "1800   Te         -0.109241   0.104625  \n",
       "5184   por        -0.000409  -0.274191  \n",
       "28268  mensaje     0.133110  -0.051975  \n",
       "4612   no         -0.175268  -0.477257  \n",
       "3589   hay         0.128032  -0.233209  \n",
       "2714   de         -0.035710   0.006082  \n",
       "19255  caracteres -0.035744  -0.014420  "
      ]
     },
     "execution_count": 338,
     "metadata": {},
     "output_type": "execute_result"
    }
   ],
   "source": [
    "search_features(tweet.split(\" \"), features_df)"
   ]
  },
  {
   "cell_type": "markdown",
   "metadata": {},
   "source": [
    "Como podemos ver el peso de los signos de exclamacion es muy influeyente en la clase positiva,\n",
    "e incluso parece desfavorecer a la clase \"none\".\n",
    "Probemos sacando los signos de exclamacion a la oracion.\n"
   ]
  },
  {
   "cell_type": "code",
   "execution_count": 339,
   "metadata": {},
   "outputs": [
    {
     "data": {
      "text/plain": [
       "'P'"
      ]
     },
     "execution_count": 339,
     "metadata": {},
     "output_type": "execute_result"
    }
   ],
   "source": [
    "pipeline.predict([re.sub(r\"!|¡\", \"\", tweet)])[0]"
   ]
  },
  {
   "cell_type": "markdown",
   "metadata": {},
   "source": [
    "El modelo sigue prediciendo la oración como positiva, veamos los pesos ahora:"
   ]
  },
  {
   "cell_type": "code",
   "execution_count": 340,
   "metadata": {},
   "outputs": [
    {
     "data": {
      "text/html": [
       "<div>\n",
       "<style scoped>\n",
       "    .dataframe tbody tr th:only-of-type {\n",
       "        vertical-align: middle;\n",
       "    }\n",
       "\n",
       "    .dataframe tbody tr th {\n",
       "        vertical-align: top;\n",
       "    }\n",
       "\n",
       "    .dataframe thead th {\n",
       "        text-align: right;\n",
       "    }\n",
       "</style>\n",
       "<table border=\"1\" class=\"dataframe\">\n",
       "  <thead>\n",
       "    <tr style=\"text-align: right;\">\n",
       "      <th></th>\n",
       "      <th>name</th>\n",
       "      <th>pos_coefs</th>\n",
       "      <th>none_coefs</th>\n",
       "    </tr>\n",
       "  </thead>\n",
       "  <tbody>\n",
       "    <tr>\n",
       "      <th>1666</th>\n",
       "      <td>Hola</td>\n",
       "      <td>0.019103</td>\n",
       "      <td>-0.024785</td>\n",
       "    </tr>\n",
       "    <tr>\n",
       "      <th>12717</th>\n",
       "      <td>Hola</td>\n",
       "      <td>0.016358</td>\n",
       "      <td>-0.117871</td>\n",
       "    </tr>\n",
       "    <tr>\n",
       "      <th>15676</th>\n",
       "      <td>Te</td>\n",
       "      <td>0.033012</td>\n",
       "      <td>-0.054424</td>\n",
       "    </tr>\n",
       "    <tr>\n",
       "      <th>1800</th>\n",
       "      <td>Te</td>\n",
       "      <td>-0.109241</td>\n",
       "      <td>0.104625</td>\n",
       "    </tr>\n",
       "    <tr>\n",
       "      <th>5184</th>\n",
       "      <td>por</td>\n",
       "      <td>-0.000409</td>\n",
       "      <td>-0.274191</td>\n",
       "    </tr>\n",
       "    <tr>\n",
       "      <th>28268</th>\n",
       "      <td>mensaje</td>\n",
       "      <td>0.133110</td>\n",
       "      <td>-0.051975</td>\n",
       "    </tr>\n",
       "    <tr>\n",
       "      <th>4612</th>\n",
       "      <td>no</td>\n",
       "      <td>-0.175268</td>\n",
       "      <td>-0.477257</td>\n",
       "    </tr>\n",
       "    <tr>\n",
       "      <th>3589</th>\n",
       "      <td>hay</td>\n",
       "      <td>0.128032</td>\n",
       "      <td>-0.233209</td>\n",
       "    </tr>\n",
       "    <tr>\n",
       "      <th>2714</th>\n",
       "      <td>de</td>\n",
       "      <td>-0.035710</td>\n",
       "      <td>0.006082</td>\n",
       "    </tr>\n",
       "    <tr>\n",
       "      <th>19255</th>\n",
       "      <td>caracteres</td>\n",
       "      <td>-0.035744</td>\n",
       "      <td>-0.014420</td>\n",
       "    </tr>\n",
       "    <tr>\n",
       "      <th>12489</th>\n",
       "      <td>Gracias</td>\n",
       "      <td>0.158458</td>\n",
       "      <td>0.102133</td>\n",
       "    </tr>\n",
       "  </tbody>\n",
       "</table>\n",
       "</div>"
      ],
      "text/plain": [
       "             name  pos_coefs  none_coefs\n",
       "1666   Hola        0.019103  -0.024785  \n",
       "12717  Hola        0.016358  -0.117871  \n",
       "15676  Te          0.033012  -0.054424  \n",
       "1800   Te         -0.109241   0.104625  \n",
       "5184   por        -0.000409  -0.274191  \n",
       "28268  mensaje     0.133110  -0.051975  \n",
       "4612   no         -0.175268  -0.477257  \n",
       "3589   hay         0.128032  -0.233209  \n",
       "2714   de         -0.035710   0.006082  \n",
       "19255  caracteres -0.035744  -0.014420  \n",
       "12489  Gracias     0.158458   0.102133  "
      ]
     },
     "execution_count": 340,
     "metadata": {},
     "output_type": "execute_result"
    }
   ],
   "source": [
    "table = search_features(re.sub(r\"!|¡\", \"\", tweet).split(\" \"), features_df)\n",
    "table"
   ]
  },
  {
   "cell_type": "markdown",
   "metadata": {},
   "source": [
    "Vemos que por mas que los signos de exclamacion sumaban peso para la clase positiva,\n",
    "aún hay palabras como \"hola\" que restan en \"none\" cuando no deberia ser así, o por ejemplo\n",
    "la palabra \"no\" tiene mayor peso negativo en none que en los positivos, cosa que tambien parece\n",
    "incorrecto"
   ]
  },
  {
   "cell_type": "code",
   "execution_count": 341,
   "metadata": {},
   "outputs": [
    {
     "data": {
      "text/html": [
       "<div>\n",
       "<style scoped>\n",
       "    .dataframe tbody tr th:only-of-type {\n",
       "        vertical-align: middle;\n",
       "    }\n",
       "\n",
       "    .dataframe tbody tr th {\n",
       "        vertical-align: top;\n",
       "    }\n",
       "\n",
       "    .dataframe thead th {\n",
       "        text-align: right;\n",
       "    }\n",
       "</style>\n",
       "<table border=\"1\" class=\"dataframe\">\n",
       "  <thead>\n",
       "    <tr style=\"text-align: right;\">\n",
       "      <th></th>\n",
       "      <th>name</th>\n",
       "      <th>none_coefs</th>\n",
       "    </tr>\n",
       "  </thead>\n",
       "  <tbody>\n",
       "    <tr>\n",
       "      <th>10573</th>\n",
       "      <td>?</td>\n",
       "      <td>1.142083</td>\n",
       "    </tr>\n",
       "    <tr>\n",
       "      <th>1548</th>\n",
       "      <td>?</td>\n",
       "      <td>1.024874</td>\n",
       "    </tr>\n",
       "    <tr>\n",
       "      <th>1549</th>\n",
       "      <td>?</td>\n",
       "      <td>0.984363</td>\n",
       "    </tr>\n",
       "    <tr>\n",
       "      <th>26748</th>\n",
       "      <td>juntos</td>\n",
       "      <td>0.926088</td>\n",
       "    </tr>\n",
       "    <tr>\n",
       "      <th>16752</th>\n",
       "      <td>abstracto</td>\n",
       "      <td>0.910561</td>\n",
       "    </tr>\n",
       "  </tbody>\n",
       "</table>\n",
       "</div>"
      ],
      "text/plain": [
       "            name  none_coefs\n",
       "10573  ?          1.142083  \n",
       "1548   ?          1.024874  \n",
       "1549   ?          0.984363  \n",
       "26748  juntos     0.926088  \n",
       "16752  abstracto  0.910561  "
      ]
     },
     "execution_count": 341,
     "metadata": {},
     "output_type": "execute_result"
    }
   ],
   "source": [
    "none_feat = pd.DataFrame({'name': features,\n",
    "                            'none_coefs': none_coef.ravel()})\n",
    "none_feat.sort_values('none_coefs', inplace=True, ascending=False)\n",
    "none_feat[:5]"
   ]
  },
  {
   "cell_type": "markdown",
   "metadata": {},
   "source": [
    "Probemos modificar un poco la oracion, para que nuestro modelo la interprete como debería ser"
   ]
  },
  {
   "cell_type": "code",
   "execution_count": 342,
   "metadata": {},
   "outputs": [],
   "source": [
    "new_tweet = '@AnaSJuarez @OfficialMauiJim Hola Ana juntos te hemos contestado por \\\n",
    "            mensaje privado, donde no hay limitación de caracteres ? Gracias ?'"
   ]
  },
  {
   "cell_type": "code",
   "execution_count": 343,
   "metadata": {},
   "outputs": [],
   "source": [
    "pred = pipeline.predict_proba([new_tweet])"
   ]
  },
  {
   "cell_type": "code",
   "execution_count": 344,
   "metadata": {},
   "outputs": [
    {
     "data": {
      "text/plain": [
       "([('N', 0), ('NEU', 1), ('NONE', 2), ('P', 3)],\n",
       " array([[0.18464505, 0.05735553, 0.32921609, 0.42878333]]))"
      ]
     },
     "execution_count": 344,
     "metadata": {},
     "output_type": "execute_result"
    }
   ],
   "source": [
    "from collections import OrderedDict\n",
    "from operator import itemgetter\n",
    "\n",
    "sorted_dict = sorted(labels.items(), key=itemgetter(1))\n",
    "sorted_dict, pred"
   ]
  },
  {
   "cell_type": "markdown",
   "metadata": {},
   "source": [
    "El modelo sigue prediciendo como positiva la oración, tendriamos que deformarla demasiado\n",
    "agregando muchos signos de pregunta o palabras que favorezcan a \"NONE\" para que el modelo\n",
    "la prediga bien.\n",
    "\n",
    "En conclusión, esto puede deberse al desbalanceo que hay en el dataset de tweets, es decir que para\n",
    "que el entrenamiento fuera mas certero habria que tener aproximadamente la misma cantidad de\n",
    "tweets de cada clase, y en nuestro dataset, la mayoria de los tweets tienen clase positiva o negativa. "
   ]
  }
 ],
 "metadata": {
  "kernelspec": {
   "display_name": "Python 3",
   "language": "python",
   "name": "python3"
  },
  "language_info": {
   "codemirror_mode": {
    "name": "ipython",
    "version": 3
   },
   "file_extension": ".py",
   "mimetype": "text/x-python",
   "name": "python",
   "nbconvert_exporter": "python",
   "pygments_lexer": "ipython3",
   "version": "3.6.7"
  }
 },
 "nbformat": 4,
 "nbformat_minor": 2
}
