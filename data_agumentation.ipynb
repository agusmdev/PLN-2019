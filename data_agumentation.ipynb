{
 "cells": [
  {
   "cell_type": "code",
   "execution_count": 58,
   "metadata": {},
   "outputs": [
    {
     "data": {
      "text/plain": [
       "2808"
      ]
     },
     "execution_count": 58,
     "metadata": {},
     "output_type": "execute_result"
    }
   ],
   "source": [
    "from googletrans import Translator\n",
    "from sentiment.tass import InterTASSReader\n",
    "import os\n",
    "from collections import Counter, defaultdict as dc\n",
    "from copy import deepcopy\n",
    "\n",
    "reader = InterTASSReader('train.xml')\n",
    "tweets = list(reader.tweets())  # iterador sobre los tweets\n",
    "#print(list(reader.tweets()))\n",
    "# a = translator.translate('En mi cabeza, en mi cabeza vas dando vueltas! Estoy muy emocionado por algo GIGANTE que se me viene!!!!!!', dest='en')\n",
    "# b = translator.translate(a.text, dest=\"es\")\n",
    "# for tweet in tweets:\n",
    "#     print(tweet)\n",
    "\n",
    "len(tweets)"
   ]
  },
  {
   "cell_type": "code",
   "execution_count": 4,
   "metadata": {},
   "outputs": [],
   "source": [
    "from googletrans.constants import LANGUAGES"
   ]
  },
  {
   "cell_type": "code",
   "execution_count": 30,
   "metadata": {},
   "outputs": [],
   "source": [
    "lang = list(LANGUAGES.keys())\n",
    "lang.remove(\"es\")"
   ]
  },
  {
   "cell_type": "code",
   "execution_count": null,
   "metadata": {},
   "outputs": [],
   "source": [
    "def augment_data(tweets, langs):\n",
    "    data = deepcopy(tweets)\n",
    "\n",
    "    for tweet in tweets:\n",
    "        data.append(get_translations(tweet, langs))\n",
    "    return data\n",
    "\n",
    "\n",
    "def get_translations(tweet, langs):\n",
    "    res = list()\n",
    "    translator = Translator()\n",
    "    for lang in langs:\n",
    "        try:\n",
    "            to_translate = deepcopy(tweet)\n",
    "            new = translator.translate(to_translate[\"content\"], dest=lang)\n",
    "            to_translate[\"content\"] = translator.translate(new.text, dest=\"es\").text\n",
    "            res.append(to_translate)\n",
    "            print(res)\n",
    "        except:\n",
    "            continue\n",
    "    return res\n"
   ]
  },
  {
   "cell_type": "code",
   "execution_count": null,
   "metadata": {},
   "outputs": [],
   "source": [
    "augmented_train = augment_data(tweets, lang)"
   ]
  },
  {
   "cell_type": "code",
   "execution_count": null,
   "metadata": {},
   "outputs": [],
   "source": [
    "len(augmented_train)"
   ]
  },
  {
   "cell_type": "code",
   "execution_count": null,
   "metadata": {},
   "outputs": [],
   "source": []
  },
  {
   "cell_type": "code",
   "execution_count": null,
   "metadata": {},
   "outputs": [],
   "source": []
  },
  {
   "cell_type": "code",
   "execution_count": null,
   "metadata": {},
   "outputs": [],
   "source": []
  },
  {
   "cell_type": "code",
   "execution_count": null,
   "metadata": {},
   "outputs": [],
   "source": []
  },
  {
   "cell_type": "code",
   "execution_count": null,
   "metadata": {},
   "outputs": [],
   "source": []
  }
 ],
 "metadata": {
  "kernelspec": {
   "display_name": "Python 3",
   "language": "python",
   "name": "python3"
  },
  "language_info": {
   "codemirror_mode": {
    "name": "ipython",
    "version": 3
   },
   "file_extension": ".py",
   "mimetype": "text/x-python",
   "name": "python",
   "nbconvert_exporter": "python",
   "pygments_lexer": "ipython3",
   "version": "3.6.7"
  }
 },
 "nbformat": 4,
 "nbformat_minor": 2
}
