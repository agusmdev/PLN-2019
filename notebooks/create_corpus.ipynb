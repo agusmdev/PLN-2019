{
 "cells": [
  {
   "cell_type": "code",
   "execution_count": null,
   "metadata": {},
   "outputs": [],
   "source": []
  },
  {
   "cell_type": "code",
   "execution_count": 9,
   "metadata": {},
   "outputs": [],
   "source": [
    "import pdftotext\n",
    "import re\n",
    "import os"
   ]
  },
  {
   "cell_type": "code",
   "execution_count": 10,
   "metadata": {},
   "outputs": [],
   "source": [
    "def format_text(pdf):\n",
    "    pdf = \"\\n\".join(pdf)\n",
    "    \"\"\"\n",
    "    Now we're going to replace \\n and more than 1 space to 1 space\n",
    "    \"\"\"\n",
    "    return re.sub(r\"(\\s{2,})|(\\n{1,})\", \" \", pdf)"
   ]
  },
  {
   "cell_type": "code",
   "execution_count": 17,
   "metadata": {},
   "outputs": [],
   "source": [
    "corpus = \"\"\n",
    "path = \"./corpus\"\n",
    "for i in os.listdir(path):\n",
    "    with open(os.path.join(path, i), \"rb\") as pdf:\n",
    "        pdf = list(pdftotext.PDF(pdf))[10:-20] # ignore index pages and credits\n",
    "        corpus += format_text(pdf)"
   ]
  },
  {
   "cell_type": "code",
   "execution_count": 12,
   "metadata": {},
   "outputs": [],
   "source": [
    "with open(\"corpus.txt\", \"w\") as text:\n",
    "    text.write(corpus)"
   ]
  },
  {
   "cell_type": "code",
   "execution_count": 13,
   "metadata": {},
   "outputs": [],
   "source": [
    "# pdf_to_text train set"
   ]
  },
  {
   "cell_type": "code",
   "execution_count": 14,
   "metadata": {},
   "outputs": [],
   "source": [
    "with open(\"test.pdf\", \"rb\") as f:\n",
    "        pdf = list(pdftotext.PDF(f))[10:-20] # ignore index pages and credits\n",
    "        test = format_text(pdf)"
   ]
  },
  {
   "cell_type": "code",
   "execution_count": 15,
   "metadata": {},
   "outputs": [],
   "source": [
    "with open(\"test.txt\", \"w\") as text:\n",
    "    text.write(test)"
   ]
  },
  {
   "cell_type": "code",
   "execution_count": null,
   "metadata": {},
   "outputs": [],
   "source": []
  }
 ],
 "metadata": {
  "kernelspec": {
   "display_name": "Python 3",
   "language": "python",
   "name": "python3"
  },
  "language_info": {
   "codemirror_mode": {
    "name": "ipython",
    "version": 3
   },
   "file_extension": ".py",
   "mimetype": "text/x-python",
   "name": "python",
   "nbconvert_exporter": "python",
   "pygments_lexer": "ipython3",
   "version": "3.6.7"
  }
 },
 "nbformat": 4,
 "nbformat_minor": 2
}
